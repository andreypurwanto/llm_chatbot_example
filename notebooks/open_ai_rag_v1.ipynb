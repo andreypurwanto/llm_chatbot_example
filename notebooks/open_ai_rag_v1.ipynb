{
 "cells": [
  {
   "cell_type": "code",
   "execution_count": 1,
   "metadata": {},
   "outputs": [],
   "source": [
    "import sys\n",
    "\n",
    "sys.path.append(\"../\")"
   ]
  },
  {
   "cell_type": "code",
   "execution_count": 2,
   "metadata": {},
   "outputs": [],
   "source": [
    "# import dotenv\n",
    "# from langchain.document_loaders.csv_loader import CSVLoader\n",
    "# from langchain.document_loaders.json_loader import JSONLoader\n",
    "# from langchain_community.vectorstores import Chroma\n",
    "# from langchain_openai import OpenAIEmbeddings\n",
    "# import os\n",
    "\n",
    "# CSV_PATH = os.path.join(\"data\",\"list_qa.csv\")\n",
    "# CHROMA_PATH = \"data/open_ai_rag_v1\"\n",
    "\n",
    "# dotenv.load_dotenv()\n",
    "\n",
    "# loader = CSVLoader(file_path=CSV_PATH, source_column=\"answer\")\n",
    "# reviews = loader.load()\n",
    "\n",
    "# vector_db = Chroma.from_documents(\n",
    "#     reviews, OpenAIEmbeddings(), persist_directory=CHROMA_PATH\n",
    "# )"
   ]
  },
  {
   "cell_type": "code",
   "execution_count": 3,
   "metadata": {},
   "outputs": [],
   "source": [
    "from web_app.core.nlu import OpenAIRAG"
   ]
  },
  {
   "cell_type": "code",
   "execution_count": 4,
   "metadata": {},
   "outputs": [
    {
     "name": "stderr",
     "output_type": "stream",
     "text": [
      "[2025-02-09 09:23:04,775] [INFO] [None] [50914] [8255131456] nlu.py:30 : init OpenAIRAG\n",
      "[2025-02-09 09:23:04,847] [INFO] [None] [50914] [8255131456] nlu.py:47 : build chain OpenAIRAG\n",
      "/Users/andrey.purwanto/Documents/template/llm_chatbot_example/notebooks/../web_app/core/nlu.py:48: LangChainDeprecationWarning: The class `Chroma` was deprecated in LangChain 0.2.9 and will be removed in 1.0. An updated version of the class exists in the :class:`~langchain-chroma package and should be used instead. To use it run `pip install -U :class:`~langchain-chroma` and import as `from :class:`~langchain_chroma import Chroma``.\n",
      "  reviews_vector_db = Chroma(\n"
     ]
    }
   ],
   "source": [
    "openairagv1 = OpenAIRAG(**{\"args\":{\"model_args\":{\"model\":\"gpt-4-turbo\", \"temperature\":0},\"chroma_path\":\"data/open_ai_rag_v1\"}})"
   ]
  },
  {
   "cell_type": "code",
   "execution_count": 5,
   "metadata": {},
   "outputs": [],
   "source": [
    "openairagv1.predict_arg = {\"query\":\"Lupa pin\"}\n",
    "openairagv1.preprocess()\n",
    "openairagv1.predict()"
   ]
  },
  {
   "cell_type": "code",
   "execution_count": 6,
   "metadata": {},
   "outputs": [
    {
     "data": {
      "text/plain": [
       "'Jika Anda lupa PIN LinkAja Anda, Anda bisa mengikuti langkah-langkah berikut untuk mereset PIN:\\n\\n1. Buka aplikasi LinkAja di ponsel Anda.\\n2. Pada halaman login, pilih opsi \"Lupa PIN\".\\n3. Anda akan diminta untuk memasukkan nomor telepon yang terdaftar dengan akun LinkAja Anda.\\n4. Setelah memasukkan nomor telepon, Anda akan menerima kode OTP melalui SMS. Masukkan kode tersebut di aplikasi.\\n5. Setelah memverifikasi dengan kode OTP, Anda akan dapat mengatur PIN baru.\\n\\nPastikan untuk memilih PIN yang aman dan tidak mudah ditebak oleh orang lain. Jika Anda mengalami kesulitan atau membutuhkan bantuan lebih lanjut, Anda dapat menghubungi layanan pelanggan LinkAja.'"
      ]
     },
     "execution_count": 6,
     "metadata": {},
     "output_type": "execute_result"
    }
   ],
   "source": [
    "openairagv1.prediction_result.content"
   ]
  },
  {
   "cell_type": "code",
   "execution_count": 8,
   "metadata": {},
   "outputs": [
    {
     "data": {
      "text/plain": [
       "{'token_usage': {'completion_tokens': 192,\n",
       "  'prompt_tokens': 110,\n",
       "  'total_tokens': 302,\n",
       "  'completion_tokens_details': {'accepted_prediction_tokens': 0,\n",
       "   'audio_tokens': 0,\n",
       "   'reasoning_tokens': 0,\n",
       "   'rejected_prediction_tokens': 0},\n",
       "  'prompt_tokens_details': {'audio_tokens': 0, 'cached_tokens': 0}},\n",
       " 'model_name': 'gpt-4-turbo-2024-04-09',\n",
       " 'system_fingerprint': 'fp_f17929ee92',\n",
       " 'finish_reason': 'stop',\n",
       " 'logprobs': None}"
      ]
     },
     "execution_count": 8,
     "metadata": {},
     "output_type": "execute_result"
    }
   ],
   "source": [
    "openairagv1.result_metadata"
   ]
  },
  {
   "cell_type": "code",
   "execution_count": 9,
   "metadata": {},
   "outputs": [],
   "source": [
    "openairagv1.predict_arg = {\"query\":\"siapa presiden indonesia\"}\n",
    "openairagv1.preprocess()\n",
    "prediction_result = openairagv1.predict()"
   ]
  },
  {
   "cell_type": "code",
   "execution_count": 10,
   "metadata": {},
   "outputs": [
    {
     "data": {
      "text/plain": [
       "'Maaf, saya hanya bisa menjawab pertanyaan yang berkaitan dengan LinkAja. Jika Anda memiliki pertanyaan tentang LinkAja, saya akan dengan senang hati membantu!'"
      ]
     },
     "execution_count": 10,
     "metadata": {},
     "output_type": "execute_result"
    }
   ],
   "source": [
    "openairagv1.prediction_result.content"
   ]
  },
  {
   "cell_type": "code",
   "execution_count": 11,
   "metadata": {},
   "outputs": [
    {
     "data": {
      "text/plain": [
       "{'token_usage': {'completion_tokens': 44,\n",
       "  'prompt_tokens': 112,\n",
       "  'total_tokens': 156,\n",
       "  'completion_tokens_details': {'accepted_prediction_tokens': 0,\n",
       "   'audio_tokens': 0,\n",
       "   'reasoning_tokens': 0,\n",
       "   'rejected_prediction_tokens': 0},\n",
       "  'prompt_tokens_details': {'audio_tokens': 0, 'cached_tokens': 0}},\n",
       " 'model_name': 'gpt-4-turbo-2024-04-09',\n",
       " 'system_fingerprint': 'fp_f17929ee92',\n",
       " 'finish_reason': 'stop',\n",
       " 'logprobs': None}"
      ]
     },
     "execution_count": 11,
     "metadata": {},
     "output_type": "execute_result"
    }
   ],
   "source": [
    "openairagv1.result_metadata"
   ]
  }
 ],
 "metadata": {
  "kernelspec": {
   "display_name": "txtai_test",
   "language": "python",
   "name": "python3"
  },
  "language_info": {
   "codemirror_mode": {
    "name": "ipython",
    "version": 3
   },
   "file_extension": ".py",
   "mimetype": "text/x-python",
   "name": "python",
   "nbconvert_exporter": "python",
   "pygments_lexer": "ipython3",
   "version": "3.9.20"
  }
 },
 "nbformat": 4,
 "nbformat_minor": 2
}
